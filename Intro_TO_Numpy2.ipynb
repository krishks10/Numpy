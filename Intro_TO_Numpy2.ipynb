{
  "nbformat": 4,
  "nbformat_minor": 0,
  "metadata": {
    "colab": {
      "provenance": [],
      "authorship_tag": "ABX9TyPyFu/cKkc8BdfhhtMjIrXB",
      "include_colab_link": true
    },
    "kernelspec": {
      "name": "python3",
      "display_name": "Python 3"
    },
    "language_info": {
      "name": "python"
    }
  },
  "cells": [
    {
      "cell_type": "markdown",
      "metadata": {
        "id": "view-in-github",
        "colab_type": "text"
      },
      "source": [
        "<a href=\"https://colab.research.google.com/github/krishks10/Numpy/blob/main/Intro_TO_Numpy2.ipynb\" target=\"_parent\"><img src=\"https://colab.research.google.com/assets/colab-badge.svg\" alt=\"Open In Colab\"/></a>"
      ]
    },
    {
      "cell_type": "code",
      "execution_count": 2,
      "metadata": {
        "id": "NUfF8tiDI2Ee",
        "colab": {
          "base_uri": "https://localhost:8080/"
        },
        "outputId": "716289c2-ba2b-4edf-eff7-d43b0d1d8410"
      },
      "outputs": [
        {
          "output_type": "stream",
          "name": "stdout",
          "text": [
            "[1 2 3 4 5]\n",
            "<class 'numpy.ndarray'>\n"
          ]
        }
      ],
      "source": [
        "import numpy as np\n",
        "\n",
        "arr = np.array([1,2,3,4,5])\n",
        "print(arr)\n",
        "print(type(arr))"
      ]
    },
    {
      "cell_type": "code",
      "source": [
        "import numpy as np\n",
        "\n",
        "arr = np.array([1,2,3,4,5])\n",
        "print(arr)\n",
        "new_arr = np.insert(arr, 5, 100)\n",
        "print(new_arr)"
      ],
      "metadata": {
        "colab": {
          "base_uri": "https://localhost:8080/"
        },
        "id": "ySyIeU-RUkIV",
        "outputId": "ae9452e5-a24a-41ff-e264-f3d8aec1eef2"
      },
      "execution_count": 7,
      "outputs": [
        {
          "output_type": "stream",
          "name": "stdout",
          "text": [
            "[1 2 3 4 5]\n",
            "[  1   2   3   4   5 100]\n"
          ]
        }
      ]
    },
    {
      "cell_type": "code",
      "source": [
        "import numpy as np\n",
        "\n",
        "arr = np.array([[1,2], [4,5]])\n",
        "print(arr)\n",
        "new_arr = np.insert(arr, 1, [7,8], axis=0)\n",
        "print(new_arr)"
      ],
      "metadata": {
        "colab": {
          "base_uri": "https://localhost:8080/"
        },
        "id": "ceRlb9pkVAzU",
        "outputId": "d32ab26e-d95e-4dd2-c716-35700c81d7c0"
      },
      "execution_count": 11,
      "outputs": [
        {
          "output_type": "stream",
          "name": "stdout",
          "text": [
            "[[1 2]\n",
            " [4 5]]\n",
            "[[1 2]\n",
            " [7 8]\n",
            " [4 5]]\n"
          ]
        }
      ]
    },
    {
      "cell_type": "code",
      "source": [
        "import numpy as np\n",
        "\n",
        "arr = np.array([[1,2], [4,5]])\n",
        "print(arr)\n",
        "new_arr = np.insert(arr, 1, [7,8], axis=1)\n",
        "print(new_arr)"
      ],
      "metadata": {
        "colab": {
          "base_uri": "https://localhost:8080/"
        },
        "id": "NrxnxALFVz8T",
        "outputId": "e1149f2d-7883-425f-cdba-6762403ab2cd"
      },
      "execution_count": 14,
      "outputs": [
        {
          "output_type": "stream",
          "name": "stdout",
          "text": [
            "[[1 2]\n",
            " [4 5]]\n",
            "[[1 7 2]\n",
            " [4 8 5]]\n"
          ]
        }
      ]
    },
    {
      "cell_type": "code",
      "source": [
        "import numpy as np\n",
        "\n",
        "arr = np.array([[1,2], [4,5], [6,9]])\n",
        "print(arr)\n",
        "new_arr = np.append(arr, [[7,8]], axis=0)\n",
        "print(new_arr)"
      ],
      "metadata": {
        "colab": {
          "base_uri": "https://localhost:8080/"
        },
        "id": "TqNtrIL4V-8K",
        "outputId": "fc0cf41e-097d-4c12-e47f-e3b082b84887"
      },
      "execution_count": 20,
      "outputs": [
        {
          "output_type": "stream",
          "name": "stdout",
          "text": [
            "[[1 2]\n",
            " [4 5]\n",
            " [6 9]]\n",
            "[[1 2]\n",
            " [4 5]\n",
            " [6 9]\n",
            " [7 8]]\n"
          ]
        }
      ]
    },
    {
      "cell_type": "code",
      "source": [
        "import numpy as np\n",
        "\n",
        "arr = np.array([[1,2], [4,5], [6,9]])\n",
        "print(arr)\n",
        "new_arr = np.append(arr, [[7,8]])\n",
        "print(new_arr)"
      ],
      "metadata": {
        "colab": {
          "base_uri": "https://localhost:8080/"
        },
        "id": "tl_MuiUNWZ1i",
        "outputId": "35a6b293-a17e-465b-e30f-b665209c9b1a"
      },
      "execution_count": 21,
      "outputs": [
        {
          "output_type": "stream",
          "name": "stdout",
          "text": [
            "[[1 2]\n",
            " [4 5]\n",
            " [6 9]]\n",
            "[1 2 4 5 6 9 7 8]\n"
          ]
        }
      ]
    },
    {
      "cell_type": "code",
      "source": [
        "import numpy as np\n",
        "\n",
        "arr = np.array([1,2,3])\n",
        "arr2 = np.array([4,5,6])\n",
        "\n",
        "new_arr = np.concatenate((arr, arr2))\n",
        "print(new_arr)"
      ],
      "metadata": {
        "colab": {
          "base_uri": "https://localhost:8080/"
        },
        "id": "tmAEl0fMWtgp",
        "outputId": "a5433341-bae1-446d-f006-2b98923b1988"
      },
      "execution_count": 23,
      "outputs": [
        {
          "output_type": "stream",
          "name": "stdout",
          "text": [
            "[1 2 3 4 5 6]\n"
          ]
        }
      ]
    },
    {
      "cell_type": "code",
      "source": [
        "import numpy as np\n",
        "\n",
        "arr = np.array([[1,2], [3,4]])\n",
        "print(np.delete(arr, 1, axis=0))"
      ],
      "metadata": {
        "colab": {
          "base_uri": "https://localhost:8080/"
        },
        "id": "vmFt1sQVXDsk",
        "outputId": "b51712df-c3f7-433e-cca7-89a6b8ac36b2"
      },
      "execution_count": 28,
      "outputs": [
        {
          "output_type": "stream",
          "name": "stdout",
          "text": [
            "[[1 2]]\n"
          ]
        }
      ]
    },
    {
      "cell_type": "code",
      "source": [
        "import numpy as np\n",
        "\n",
        "arr = np.array([1,2,3,4])\n",
        "print(np.delete(arr, 0))"
      ],
      "metadata": {
        "colab": {
          "base_uri": "https://localhost:8080/"
        },
        "id": "9thVfoLrXmk9",
        "outputId": "65830d8e-1d9d-4758-bb9b-0cfc8228be2e"
      },
      "execution_count": 30,
      "outputs": [
        {
          "output_type": "stream",
          "name": "stdout",
          "text": [
            "[2 3 4]\n"
          ]
        }
      ]
    },
    {
      "cell_type": "code",
      "source": [
        "import numpy as np\n",
        "\n",
        "arr = np.array([1,2,3])\n",
        "arr2 = np.array([4,5,6])\n",
        "\n",
        "print(np.vstack((arr, arr2)))\n",
        "print(np.hstack((arr, arr2)))"
      ],
      "metadata": {
        "colab": {
          "base_uri": "https://localhost:8080/"
        },
        "id": "4hq2Ww8aXw5P",
        "outputId": "7944d6e9-3c53-45b3-a1e8-03d415cf11cb"
      },
      "execution_count": 31,
      "outputs": [
        {
          "output_type": "stream",
          "name": "stdout",
          "text": [
            "[[1 2 3]\n",
            " [4 5 6]]\n",
            "[1 2 3 4 5 6]\n"
          ]
        }
      ]
    },
    {
      "cell_type": "code",
      "source": [
        "import numpy as np\n",
        "\n",
        "arr = np.array([1,2,3,4])\n",
        "print(np.split(arr, 2))"
      ],
      "metadata": {
        "colab": {
          "base_uri": "https://localhost:8080/"
        },
        "id": "U_WtqUJWYHOG",
        "outputId": "cf31d116-c79f-4233-fe37-6231e5b319c8"
      },
      "execution_count": 33,
      "outputs": [
        {
          "output_type": "stream",
          "name": "stdout",
          "text": [
            "[array([1, 2]), array([3, 4])]\n"
          ]
        }
      ]
    },
    {
      "cell_type": "code",
      "source": [],
      "metadata": {
        "id": "dBMUPNIEYpq_"
      },
      "execution_count": null,
      "outputs": []
    }
  ]
}